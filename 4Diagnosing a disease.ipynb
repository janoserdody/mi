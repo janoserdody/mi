{
 "cells": [
  {
   "cell_type": "code",
   "execution_count": 16,
   "metadata": {},
   "outputs": [
    {
     "name": "stdout",
     "output_type": "stream",
     "text": [
      "Collecting tensorflow_probability\n",
      "  Downloading tensorflow_probability-0.11.1-py2.py3-none-any.whl (4.3 MB)\n",
      "\u001b[K     |████████████████████████████████| 4.3 MB 2.0 MB/s eta 0:00:01\n",
      "\u001b[?25hRequirement already satisfied: tensorboard in /Users/ben/.local/lib/python3.6/site-packages (1.15.0)\n",
      "Requirement already satisfied: cloudpickle>=1.3 in /Users/ben/anaconda3/lib/python3.6/site-packages (from tensorflow_probability) (1.3.0)\n",
      "Requirement already satisfied: six>=1.10.0 in /Users/ben/anaconda3/lib/python3.6/site-packages (from tensorflow_probability) (1.15.0)\n",
      "Requirement already satisfied: decorator in /Users/ben/anaconda3/lib/python3.6/site-packages (from tensorflow_probability) (4.4.2)\n",
      "Collecting gast>=0.3.2\n",
      "  Downloading gast-0.4.0-py3-none-any.whl (9.8 kB)\n",
      "Collecting dm-tree\n",
      "  Downloading dm_tree-0.1.5-cp36-cp36m-macosx_10_9_x86_64.whl (94 kB)\n",
      "\u001b[K     |████████████████████████████████| 94 kB 868 kB/s  eta 0:00:01\n",
      "\u001b[?25hRequirement already satisfied: numpy>=1.13.3 in /Users/ben/anaconda3/lib/python3.6/site-packages (from tensorflow_probability) (1.19.1)\n",
      "Requirement already satisfied: markdown>=2.6.8 in /Users/ben/anaconda3/lib/python3.6/site-packages (from tensorboard) (2.6.11)\n",
      "Requirement already satisfied: protobuf>=3.6.0 in /Users/ben/anaconda3/lib/python3.6/site-packages (from tensorboard) (3.12.2)\n",
      "Requirement already satisfied: werkzeug>=0.11.15 in /Users/ben/anaconda3/lib/python3.6/site-packages (from tensorboard) (0.14.1)\n",
      "Requirement already satisfied: grpcio>=1.6.3 in /Users/ben/anaconda3/lib/python3.6/site-packages (from tensorboard) (1.16.1)\n",
      "Requirement already satisfied: absl-py>=0.4 in /Users/ben/anaconda3/lib/python3.6/site-packages (from tensorboard) (0.8.1)\n",
      "Requirement already satisfied: wheel>=0.26; python_version >= \"3\" in /Users/ben/anaconda3/lib/python3.6/site-packages (from tensorboard) (0.35.1)\n",
      "Requirement already satisfied: setuptools>=41.0.0 in /Users/ben/anaconda3/lib/python3.6/site-packages (from tensorboard) (49.6.0.post20200814)\n",
      "Installing collected packages: gast, dm-tree, tensorflow-probability\n",
      "  Attempting uninstall: gast\n",
      "    Found existing installation: gast 0.2.2\n",
      "    Uninstalling gast-0.2.2:\n",
      "      Successfully uninstalled gast-0.2.2\n",
      "\u001b[31mERROR: After October 2020 you may experience errors when installing or updating packages. This is because pip will change the way that it resolves dependency conflicts.\n",
      "\n",
      "We recommend you use --use-feature=2020-resolver to test your packages with the new resolver before it becomes the default.\n",
      "\n",
      "tensorflow 1.15.3 requires gast==0.2.2, but you'll have gast 0.4.0 which is incompatible.\u001b[0m\n",
      "Successfully installed dm-tree-0.1.5 gast-0.4.0 tensorflow-probability-0.11.1\n"
     ]
    }
   ],
   "source": [
    "!pip install tensorflow_probability tensorboard"
   ]
  },
  {
   "cell_type": "code",
   "execution_count": 18,
   "metadata": {},
   "outputs": [
    {
     "name": "stdout",
     "output_type": "stream",
     "text": [
      "Collecting tensorflow>=2.3\n",
      "  Downloading tensorflow-2.3.1-cp36-cp36m-macosx_10_9_x86_64.whl (165.1 MB)\n",
      "\u001b[K     |████████████████████████████████| 165.1 MB 49 kB/s  eta 0:00:012   |███████▊                        | 40.1 MB 4.2 MB/s eta 0:00:31     |████████▎                       | 42.7 MB 5.7 MB/s eta 0:00:22     |███████████                     | 56.5 MB 2.6 MB/s eta 0:00:42     |███████████████▍                | 79.4 MB 3.2 MB/s eta 0:00:27     |████████████████▌               | 85.1 MB 4.7 MB/s eta 0:00:17     |██████████████████▏             | 93.6 MB 1.9 MB/s eta 0:00:37     |████████████████████            | 103.6 MB 4.2 MB/s eta 0:00:15     |█████████████████████████▉      | 133.3 MB 5.9 MB/s eta 0:00:06\n",
      "\u001b[?25hCollecting numpy<1.19.0,>=1.16.0\n",
      "  Downloading numpy-1.18.5-cp36-cp36m-macosx_10_9_x86_64.whl (15.1 MB)\n",
      "\u001b[K     |████████████████████████████████| 15.1 MB 8.4 MB/s eta 0:00:01    |██████████████                  | 6.6 MB 4.0 MB/s eta 0:00:03     |███████████████████████████▏    | 12.9 MB 8.4 MB/s eta 0:00:01\n",
      "\u001b[?25hRequirement already satisfied: keras-preprocessing<1.2,>=1.1.1 in /Users/ben/anaconda3/lib/python3.6/site-packages (from tensorflow>=2.3) (1.1.2)\n",
      "Requirement already satisfied: termcolor>=1.1.0 in /Users/ben/anaconda3/lib/python3.6/site-packages (from tensorflow>=2.3) (1.1.0)\n",
      "Requirement already satisfied: grpcio>=1.8.6 in /Users/ben/anaconda3/lib/python3.6/site-packages (from tensorflow>=2.3) (1.16.1)\n",
      "Requirement already satisfied: absl-py>=0.7.0 in /Users/ben/anaconda3/lib/python3.6/site-packages (from tensorflow>=2.3) (0.8.1)\n",
      "Requirement already satisfied: google-pasta>=0.1.8 in /Users/ben/anaconda3/lib/python3.6/site-packages (from tensorflow>=2.3) (0.1.8)\n",
      "Collecting tensorflow-estimator<2.4.0,>=2.3.0\n",
      "  Downloading tensorflow_estimator-2.3.0-py2.py3-none-any.whl (459 kB)\n",
      "\u001b[K     |████████████████████████████████| 459 kB 11.6 MB/s eta 0:00:01\n",
      "\u001b[?25hCollecting tensorboard<3,>=2.3.0\n",
      "  Downloading tensorboard-2.3.0-py3-none-any.whl (6.8 MB)\n",
      "\u001b[K     |████████████████████████████████| 6.8 MB 7.9 MB/s eta 0:00:011\n",
      "\u001b[?25hRequirement already satisfied: protobuf>=3.9.2 in /Users/ben/anaconda3/lib/python3.6/site-packages (from tensorflow>=2.3) (3.12.2)\n",
      "Requirement already satisfied: wrapt>=1.11.1 in /Users/ben/anaconda3/lib/python3.6/site-packages (from tensorflow>=2.3) (1.11.2)\n",
      "Requirement already satisfied: opt-einsum>=2.3.2 in /Users/ben/anaconda3/lib/python3.6/site-packages (from tensorflow>=2.3) (3.2.1)\n",
      "Requirement already satisfied: wheel>=0.26 in /Users/ben/anaconda3/lib/python3.6/site-packages (from tensorflow>=2.3) (0.35.1)\n",
      "Requirement already satisfied: h5py<2.11.0,>=2.10.0 in /Users/ben/anaconda3/lib/python3.6/site-packages (from tensorflow>=2.3) (2.10.0)\n",
      "Requirement already satisfied: astunparse==1.6.3 in /Users/ben/anaconda3/lib/python3.6/site-packages (from tensorflow>=2.3) (1.6.3)\n",
      "Requirement already satisfied: six>=1.12.0 in /Users/ben/anaconda3/lib/python3.6/site-packages (from tensorflow>=2.3) (1.15.0)\n",
      "Collecting gast==0.3.3\n",
      "  Using cached gast-0.3.3-py2.py3-none-any.whl (9.7 kB)\n",
      "Requirement already satisfied: tensorboard-plugin-wit>=1.6.0 in /Users/ben/anaconda3/lib/python3.6/site-packages (from tensorboard<3,>=2.3.0->tensorflow>=2.3) (1.6.0.post3)\n",
      "Requirement already satisfied: markdown>=2.6.8 in /Users/ben/anaconda3/lib/python3.6/site-packages (from tensorboard<3,>=2.3.0->tensorflow>=2.3) (2.6.11)\n",
      "Requirement already satisfied: setuptools>=41.0.0 in /Users/ben/anaconda3/lib/python3.6/site-packages (from tensorboard<3,>=2.3.0->tensorflow>=2.3) (49.6.0.post20200814)\n",
      "Requirement already satisfied: requests<3,>=2.21.0 in /Users/ben/anaconda3/lib/python3.6/site-packages (from tensorboard<3,>=2.3.0->tensorflow>=2.3) (2.24.0)\n",
      "Requirement already satisfied: google-auth<2,>=1.6.3 in /Users/ben/anaconda3/lib/python3.6/site-packages (from tensorboard<3,>=2.3.0->tensorflow>=2.3) (1.17.2)\n",
      "Requirement already satisfied: google-auth-oauthlib<0.5,>=0.4.1 in /Users/ben/anaconda3/lib/python3.6/site-packages (from tensorboard<3,>=2.3.0->tensorflow>=2.3) (0.4.1)\n",
      "Requirement already satisfied: werkzeug>=0.11.15 in /Users/ben/anaconda3/lib/python3.6/site-packages (from tensorboard<3,>=2.3.0->tensorflow>=2.3) (0.14.1)\n",
      "Requirement already satisfied: idna<3,>=2.5 in /Users/ben/anaconda3/lib/python3.6/site-packages (from requests<3,>=2.21.0->tensorboard<3,>=2.3.0->tensorflow>=2.3) (2.10)\n",
      "Requirement already satisfied: urllib3!=1.25.0,!=1.25.1,<1.26,>=1.21.1 in /Users/ben/anaconda3/lib/python3.6/site-packages (from requests<3,>=2.21.0->tensorboard<3,>=2.3.0->tensorflow>=2.3) (1.25.10)\n",
      "Requirement already satisfied: certifi>=2017.4.17 in /Users/ben/anaconda3/lib/python3.6/site-packages (from requests<3,>=2.21.0->tensorboard<3,>=2.3.0->tensorflow>=2.3) (2020.6.20)\n",
      "Requirement already satisfied: chardet<4,>=3.0.2 in /Users/ben/anaconda3/lib/python3.6/site-packages (from requests<3,>=2.21.0->tensorboard<3,>=2.3.0->tensorflow>=2.3) (3.0.4)\n",
      "Requirement already satisfied: pyasn1-modules>=0.2.1 in /Users/ben/anaconda3/lib/python3.6/site-packages (from google-auth<2,>=1.6.3->tensorboard<3,>=2.3.0->tensorflow>=2.3) (0.2.1)\n",
      "Requirement already satisfied: rsa<5,>=3.1.4; python_version >= \"3\" in /Users/ben/anaconda3/lib/python3.6/site-packages (from google-auth<2,>=1.6.3->tensorboard<3,>=2.3.0->tensorflow>=2.3) (4.6)\n",
      "Requirement already satisfied: cachetools<5.0,>=2.0.0 in /Users/ben/anaconda3/lib/python3.6/site-packages (from google-auth<2,>=1.6.3->tensorboard<3,>=2.3.0->tensorflow>=2.3) (4.1.0)\n",
      "Requirement already satisfied: requests-oauthlib>=0.7.0 in /Users/ben/anaconda3/lib/python3.6/site-packages (from google-auth-oauthlib<0.5,>=0.4.1->tensorboard<3,>=2.3.0->tensorflow>=2.3) (1.0.0)\n",
      "Requirement already satisfied: pyasn1<0.5.0,>=0.4.1 in /Users/ben/anaconda3/lib/python3.6/site-packages (from pyasn1-modules>=0.2.1->google-auth<2,>=1.6.3->tensorboard<3,>=2.3.0->tensorflow>=2.3) (0.4.4)\n",
      "Requirement already satisfied: oauthlib>=0.6.2 in /Users/ben/anaconda3/lib/python3.6/site-packages (from requests-oauthlib>=0.7.0->google-auth-oauthlib<0.5,>=0.4.1->tensorboard<3,>=2.3.0->tensorflow>=2.3) (2.1.0)\n",
      "Installing collected packages: numpy, tensorflow-estimator, tensorboard, gast, tensorflow\n",
      "  Attempting uninstall: numpy\n",
      "    Found existing installation: numpy 1.19.1\n",
      "    Uninstalling numpy-1.19.1:\n",
      "      Successfully uninstalled numpy-1.19.1\n",
      "  Attempting uninstall: tensorflow-estimator\n",
      "    Found existing installation: tensorflow-estimator 1.15.1\n",
      "    Uninstalling tensorflow-estimator-1.15.1:\n",
      "      Successfully uninstalled tensorflow-estimator-1.15.1\n",
      "  Attempting uninstall: tensorboard\n",
      "    Found existing installation: tensorboard 1.15.0\n",
      "    Uninstalling tensorboard-1.15.0:\n",
      "      Successfully uninstalled tensorboard-1.15.0\n",
      "  Attempting uninstall: gast\n",
      "    Found existing installation: gast 0.4.0\n",
      "    Uninstalling gast-0.4.0:\n",
      "      Successfully uninstalled gast-0.4.0\n",
      "  Attempting uninstall: tensorflow\n",
      "    Found existing installation: tensorflow 1.15.3\n",
      "    Uninstalling tensorflow-1.15.3:\n",
      "      Successfully uninstalled tensorflow-1.15.3\n",
      "\u001b[31mERROR: After October 2020 you may experience errors when installing or updating packages. This is because pip will change the way that it resolves dependency conflicts.\n",
      "\n",
      "We recommend you use --use-feature=2020-resolver to test your packages with the new resolver before it becomes the default.\n",
      "\n",
      "tensorboard 2.3.0 requires grpcio>=1.24.3, but you'll have grpcio 1.16.1 which is incompatible.\n",
      "torchvision 0.6.1 requires torch==1.5.1, but you'll have torch 1.6.0 which is incompatible.\u001b[0m\n",
      "Successfully installed gast-0.3.3 numpy-1.18.5 tensorboard-2.3.0 tensorflow-2.3.1 tensorflow-estimator-2.3.0\n"
     ]
    }
   ],
   "source": [
    "!pip install 'tensorflow>=2.3'"
   ]
  },
  {
   "cell_type": "code",
   "execution_count": 1,
   "metadata": {},
   "outputs": [],
   "source": [
    "from sklearn.datasets import fetch_openml\n",
    "%matplotlib inline"
   ]
  },
  {
   "cell_type": "code",
   "execution_count": 2,
   "metadata": {},
   "outputs": [],
   "source": [
    "X, y = fetch_openml(data_id=1565, return_X_y=True, as_frame=True)"
   ]
  },
  {
   "cell_type": "code",
   "execution_count": 3,
   "metadata": {},
   "outputs": [
    {
     "data": {
      "text/html": [
       "<div>\n",
       "<style scoped>\n",
       "    .dataframe tbody tr th:only-of-type {\n",
       "        vertical-align: middle;\n",
       "    }\n",
       "\n",
       "    .dataframe tbody tr th {\n",
       "        vertical-align: top;\n",
       "    }\n",
       "\n",
       "    .dataframe thead th {\n",
       "        text-align: right;\n",
       "    }\n",
       "</style>\n",
       "<table border=\"1\" class=\"dataframe\">\n",
       "  <thead>\n",
       "    <tr style=\"text-align: right;\">\n",
       "      <th></th>\n",
       "      <th>V1</th>\n",
       "      <th>V2</th>\n",
       "      <th>V3</th>\n",
       "      <th>V4</th>\n",
       "      <th>V5</th>\n",
       "      <th>V6</th>\n",
       "      <th>V7</th>\n",
       "      <th>V8</th>\n",
       "      <th>V9</th>\n",
       "      <th>V10</th>\n",
       "      <th>V11</th>\n",
       "      <th>V12</th>\n",
       "      <th>V13</th>\n",
       "    </tr>\n",
       "  </thead>\n",
       "  <tbody>\n",
       "    <tr>\n",
       "      <th>0</th>\n",
       "      <td>40.0</td>\n",
       "      <td>1.0</td>\n",
       "      <td>2.0</td>\n",
       "      <td>140.0</td>\n",
       "      <td>289.0</td>\n",
       "      <td>0.0</td>\n",
       "      <td>0.0</td>\n",
       "      <td>172.0</td>\n",
       "      <td>0.0</td>\n",
       "      <td>0.0</td>\n",
       "      <td>-9.0</td>\n",
       "      <td>-9.0</td>\n",
       "      <td>-9.0</td>\n",
       "    </tr>\n",
       "    <tr>\n",
       "      <th>1</th>\n",
       "      <td>49.0</td>\n",
       "      <td>0.0</td>\n",
       "      <td>3.0</td>\n",
       "      <td>160.0</td>\n",
       "      <td>180.0</td>\n",
       "      <td>0.0</td>\n",
       "      <td>0.0</td>\n",
       "      <td>156.0</td>\n",
       "      <td>0.0</td>\n",
       "      <td>1.0</td>\n",
       "      <td>2.0</td>\n",
       "      <td>-9.0</td>\n",
       "      <td>-9.0</td>\n",
       "    </tr>\n",
       "    <tr>\n",
       "      <th>2</th>\n",
       "      <td>37.0</td>\n",
       "      <td>1.0</td>\n",
       "      <td>2.0</td>\n",
       "      <td>130.0</td>\n",
       "      <td>283.0</td>\n",
       "      <td>0.0</td>\n",
       "      <td>1.0</td>\n",
       "      <td>98.0</td>\n",
       "      <td>0.0</td>\n",
       "      <td>0.0</td>\n",
       "      <td>-9.0</td>\n",
       "      <td>-9.0</td>\n",
       "      <td>-9.0</td>\n",
       "    </tr>\n",
       "    <tr>\n",
       "      <th>3</th>\n",
       "      <td>48.0</td>\n",
       "      <td>0.0</td>\n",
       "      <td>4.0</td>\n",
       "      <td>138.0</td>\n",
       "      <td>214.0</td>\n",
       "      <td>0.0</td>\n",
       "      <td>0.0</td>\n",
       "      <td>108.0</td>\n",
       "      <td>1.0</td>\n",
       "      <td>1.5</td>\n",
       "      <td>2.0</td>\n",
       "      <td>-9.0</td>\n",
       "      <td>-9.0</td>\n",
       "    </tr>\n",
       "    <tr>\n",
       "      <th>4</th>\n",
       "      <td>54.0</td>\n",
       "      <td>1.0</td>\n",
       "      <td>3.0</td>\n",
       "      <td>150.0</td>\n",
       "      <td>-9.0</td>\n",
       "      <td>0.0</td>\n",
       "      <td>0.0</td>\n",
       "      <td>122.0</td>\n",
       "      <td>0.0</td>\n",
       "      <td>0.0</td>\n",
       "      <td>-9.0</td>\n",
       "      <td>-9.0</td>\n",
       "      <td>-9.0</td>\n",
       "    </tr>\n",
       "  </tbody>\n",
       "</table>\n",
       "</div>"
      ],
      "text/plain": [
       "     V1   V2   V3     V4     V5   V6   V7     V8   V9  V10  V11  V12  V13\n",
       "0  40.0  1.0  2.0  140.0  289.0  0.0  0.0  172.0  0.0  0.0 -9.0 -9.0 -9.0\n",
       "1  49.0  0.0  3.0  160.0  180.0  0.0  0.0  156.0  0.0  1.0  2.0 -9.0 -9.0\n",
       "2  37.0  1.0  2.0  130.0  283.0  0.0  1.0   98.0  0.0  0.0 -9.0 -9.0 -9.0\n",
       "3  48.0  0.0  4.0  138.0  214.0  0.0  0.0  108.0  1.0  1.5  2.0 -9.0 -9.0\n",
       "4  54.0  1.0  3.0  150.0   -9.0  0.0  0.0  122.0  0.0  0.0 -9.0 -9.0 -9.0"
      ]
     },
     "execution_count": 3,
     "metadata": {},
     "output_type": "execute_result"
    }
   ],
   "source": [
    "X.head()"
   ]
  },
  {
   "cell_type": "code",
   "execution_count": 4,
   "metadata": {},
   "outputs": [
    {
     "data": {
      "text/plain": [
       "1"
      ]
     },
     "execution_count": 4,
     "metadata": {},
     "output_type": "execute_result"
    }
   ],
   "source": [
    "y.astype(int).min()"
   ]
  },
  {
   "cell_type": "code",
   "execution_count": 5,
   "metadata": {},
   "outputs": [
    {
     "data": {
      "text/plain": [
       "<matplotlib.axes._subplots.AxesSubplot at 0x7fda40ce2be0>"
      ]
     },
     "execution_count": 5,
     "metadata": {},
     "output_type": "execute_result"
    },
    {
     "data": {
      "image/png": "[encoded data removed]",
      "text/plain": [
       "<Figure size 432x288 with 1 Axes>"
      ]
     },
     "metadata": {
      "needs_background": "light"
     },
     "output_type": "display_data"
    }
   ],
   "source": [
    "y.hist(bins=5)"
   ]
  },
  {
   "cell_type": "code",
   "execution_count": 6,
   "metadata": {},
   "outputs": [],
   "source": [
    "target = (y.astype(int) > 1).astype(float)"
   ]
  },
  {
   "cell_type": "code",
   "execution_count": 7,
   "metadata": {},
   "outputs": [
    {
     "data": {
      "image/png": "[encoded data removed]",
      "text/plain": [
       "<Figure size 216x360 with 1 Axes>"
      ]
     },
     "metadata": {
      "needs_background": "light"
     },
     "output_type": "display_data"
    }
   ],
   "source": [
    "from matplotlib import pyplot as plt\n",
    "\n",
    "target.hist(figsize=(3, 5), rwidth=5)\n",
    "plt.xticks([0.05, 0.95], ['healthy', 'unhealthy'])\n",
    "plt.grid(b=None)"
   ]
  },
  {
   "cell_type": "code",
   "execution_count": 8,
   "metadata": {},
   "outputs": [],
   "source": [
    "from sklearn.preprocessing import StandardScaler\n",
    "scaler = StandardScaler()\n",
    "X_t = scaler.fit_transform(X)"
   ]
  },
  {
   "cell_type": "code",
   "execution_count": 9,
   "metadata": {},
   "outputs": [
    {
     "data": {
      "text/plain": [
       "array([[-1.00359234,  0.61666984, -1.02025916, ..., -0.73929521,\n",
       "        -0.11089228, -0.32235972],\n",
       "       [ 0.15047343, -1.62161328,  0.01765154, ...,  1.37092607,\n",
       "        -0.11089228, -0.32235972],\n",
       "       [-1.38828093,  0.61666984, -1.02025916, ..., -0.73929521,\n",
       "        -0.11089228, -0.32235972],\n",
       "       ...,\n",
       "       [ 0.0222439 ,  0.61666984,  0.01765154, ..., -0.73929521,\n",
       "        -0.11089228,  3.14497288],\n",
       "       [-0.10598563, -1.62161328, -1.02025916, ...,  1.17908777,\n",
       "        -0.11089228, -0.32235972],\n",
       "       [ 0.66339155,  0.61666984,  1.05556224, ..., -0.73929521,\n",
       "        -0.11089228, -0.32235972]])"
      ]
     },
     "execution_count": 9,
     "metadata": {},
     "output_type": "execute_result"
    }
   ],
   "source": [
    "X_t"
   ]
  },
  {
   "cell_type": "code",
   "execution_count": 10,
   "metadata": {},
   "outputs": [],
   "source": [
    "from sklearn.model_selection import train_test_split\n",
    "\n",
    "Xt_train, Xt_test, y_train, y_test = train_test_split(\n",
    "    X_t, target, test_size=0.33, random_state=42\n",
    ")  # for neural networks\n",
    "X_train, X_test, y_train, y_test = train_test_split(\n",
    "    X, target, test_size=0.33, random_state=42\n",
    ")  # for decision tree approaches"
   ]
  },
  {
   "cell_type": "code",
   "execution_count": 11,
   "metadata": {
    "scrolled": true
   },
   "outputs": [
    {
     "data": {
      "text/plain": [
       "False"
      ]
     },
     "execution_count": 11,
     "metadata": {},
     "output_type": "execute_result"
    }
   ],
   "source": [
    "X.isnull().sum(axis=0).any()"
   ]
  },
  {
   "cell_type": "code",
   "execution_count": 12,
   "metadata": {},
   "outputs": [],
   "source": [
    "import tensorflow as tf\n",
    "import tensorflow_probability as tfp\n",
    "tfd = tfp.distributions\n",
    "from tensorflow import keras\n",
    "\n",
    "negloglik = lambda y, p_y: -p_y.log_prob(y)\n",
    "\n",
    "model = keras.Sequential([\n",
    "  keras.layers.Dense(12, activation='relu', name='hidden'),\n",
    "  keras.layers.Dense(1, name='output'),\n",
    "  tfp.layers.DistributionLambda(\n",
    "      lambda t: tfd.Bernoulli(logits=t)\n",
    "  ),\n",
    "])\n",
    "\n",
    "model.compile(optimizer=tf.optimizers.Adagrad(learning_rate=0.05), loss=negloglik)"
   ]
  },
  {
   "cell_type": "code",
   "execution_count": 14,
   "metadata": {},
   "outputs": [
    {
     "name": "stdout",
     "output_type": "stream",
     "text": [
      "The tensorboard extension is already loaded. To reload it, use:\n",
      "  %reload_ext tensorboard\n"
     ]
    }
   ],
   "source": [
    "%load_ext tensorboard"
   ]
  },
  {
   "cell_type": "code",
   "execution_count": 15,
   "metadata": {},
   "outputs": [
    {
     "name": "stdout",
     "output_type": "stream",
     "text": [
      "WARNING:tensorflow:From /Users/ben/anaconda3/lib/python3.6/site-packages/tensorflow/python/ops/summary_ops_v2.py:1277: stop (from tensorflow.python.eager.profiler) is deprecated and will be removed after 2020-07-01.\n",
      "Instructions for updating:\n",
      "use `tf.profiler.experimental.stop` instead.\n",
      "WARNING:tensorflow:Callbacks method `on_train_batch_end` is slow compared to the batch time (batch time: 0.0012s vs `on_train_batch_end` time: 0.0222s). Check your callbacks.\n"
     ]
    }
   ],
   "source": [
    "callbacks = [\n",
    "    keras.callbacks.EarlyStopping(patience=10, monitor='loss'),\n",
    "    keras.callbacks.TensorBoard(log_dir='./logs'),\n",
    "]\n",
    "history = model.fit(\n",
    "    Xt_train,\n",
    "    y_train.values,\n",
    "    epochs=10000,\n",
    "    verbose=False,\n",
    "    callbacks=callbacks\n",
    ")"
   ]
  },
  {
   "cell_type": "code",
   "execution_count": 16,
   "metadata": {},
   "outputs": [
    {
     "name": "stdout",
     "output_type": "stream",
     "text": [
      "2975\n"
     ]
    }
   ],
   "source": [
    "print(len(history.epoch))"
   ]
  },
  {
   "cell_type": "code",
   "execution_count": 17,
   "metadata": {},
   "outputs": [
    {
     "name": "stdout",
     "output_type": "stream",
     "text": [
      "Model: \"sequential\"\n",
      "_________________________________________________________________\n",
      "Layer (type)                 Output Shape              Param #   \n",
      "=================================================================\n",
      "hidden (Dense)               (None, 12)                168       \n",
      "_________________________________________________________________\n",
      "output (Dense)               (None, 1)                 13        \n",
      "_________________________________________________________________\n",
      "distribution_lambda (Distrib ((None, 1), (None, 1))    0         \n",
      "=================================================================\n",
      "Total params: 181\n",
      "Trainable params: 181\n",
      "Non-trainable params: 0\n",
      "_________________________________________________________________\n"
     ]
    }
   ],
   "source": [
    "model.summary()"
   ]
  },
  {
   "cell_type": "code",
   "execution_count": 18,
   "metadata": {},
   "outputs": [],
   "source": [
    "y_pred = model(Xt_test)"
   ]
  },
  {
   "cell_type": "code",
   "execution_count": 19,
   "metadata": {},
   "outputs": [],
   "source": [
    "def to_one_hot(a):\n",
    "    \"\"\"convert from integer encoding to one-hot\"\"\"\n",
    "    b = np.zeros((a.size, 2))\n",
    "    b[np.arange(a.size), np.rint(a).astype(int)] = 1\n",
    "    return b"
   ]
  },
  {
   "cell_type": "code",
   "execution_count": 20,
   "metadata": {},
   "outputs": [],
   "source": [
    "plt.rcParams[\"font.family\"] = \"Times New Roman\"\n",
    "plt.rcParams[\"font.size\"] = \"15\""
   ]
  },
  {
   "cell_type": "code",
   "execution_count": 23,
   "metadata": {},
   "outputs": [
    {
     "data": {
      "image/png": "[encoded data removed]",
      "text/plain": [
       "<Figure size 432x288 with 1 Axes>"
      ]
     },
     "metadata": {
      "needs_background": "light"
     },
     "output_type": "display_data"
    }
   ],
   "source": [
    "from scipy.stats import norm\n",
    "import numpy as np\n",
    "\n",
    "\n",
    "a, b = y_pred.mean().numpy()[10], y_pred.variance().numpy()[10]\n",
    "fig, ax = plt.subplots(1, 1)\n",
    "x = np.linspace(\n",
    "    norm.ppf(0.001, a, b),\n",
    "    norm.ppf(0.999, a, b),\n",
    "    100\n",
    ")\n",
    "pdf = norm.pdf(x, a, b)\n",
    "ax.plot(\n",
    "    x, \n",
    "    pdf / np.sum(pdf), \n",
    "    'r-', lw=5, alpha=0.6, \n",
    "    label='norm pdf'\n",
    ")\n",
    "plt.ylabel('probability density')\n",
    "plt.xlabel('predictions');"
   ]
  },
  {
   "cell_type": "code",
   "execution_count": 24,
   "metadata": {},
   "outputs": [],
   "source": [
    "def to_classprobs(y_pred):\n",
    "    class_probs = np.zeros(shape=(y_pred.mean().numpy().shape[0], 2))\n",
    "    for i, (a, b) in enumerate(zip(y_pred.mean().numpy(), y_pred.variance().numpy())):\n",
    "        conf = norm.cdf(0.5, a, b)\n",
    "        class_probs[i, 0] = conf\n",
    "        class_probs[i, 1] = 1 - conf\n",
    "    return class_probs\n",
    "\n",
    "class_probs = to_classprobs(y_pred)"
   ]
  },
  {
   "cell_type": "code",
   "execution_count": 25,
   "metadata": {},
   "outputs": [],
   "source": [
    "import sklearn"
   ]
  },
  {
   "cell_type": "code",
   "execution_count": 27,
   "metadata": {},
   "outputs": [
    {
     "data": {
      "text/plain": [
       "'auc score: 0.810'"
      ]
     },
     "execution_count": 27,
     "metadata": {},
     "output_type": "execute_result"
    }
   ],
   "source": [
    "'auc score: {:.3f}'.format(sklearn.metrics.roc_auc_score(to_one_hot(y_test), class_probs))"
   ]
  },
  {
   "cell_type": "code",
   "execution_count": 28,
   "metadata": {},
   "outputs": [],
   "source": [
    "class ModelWrapper(sklearn.base.ClassifierMixin):\n",
    "    _estimator_type = 'classifier'\n",
    "    classes_ = [0, 1]\n",
    "    def predict_proba(self, X):\n",
    "        pred = model(X)\n",
    "        return to_classprobs(pred)\n",
    "    \n",
    "model_wrapper = ModelWrapper()"
   ]
  },
  {
   "cell_type": "code",
   "execution_count": 29,
   "metadata": {},
   "outputs": [
    {
     "data": {
      "text/plain": [
       "Text(0.5, 1.0, '2-class Precision-Recall curve: AP=0.77')"
      ]
     },
     "execution_count": 29,
     "metadata": {},
     "output_type": "execute_result"
    },
    {
     "data": {
      "image/png": "[encoded data removed]",
      "text/plain": [
       "<Figure size 432x288 with 1 Axes>"
      ]
     },
     "metadata": {
      "needs_background": "light"
     },
     "output_type": "display_data"
    }
   ],
   "source": [
    "from sklearn.metrics import plot_precision_recall_curve\n",
    "import matplotlib.pyplot as plt\n",
    "from sklearn.metrics import average_precision_score\n",
    "\n",
    "\n",
    "average_precision = average_precision_score(to_one_hot(y_test), class_probs)\n",
    "fig = plot_precision_recall_curve(model_wrapper, Xt_test, y_test)\n",
    "fig.ax_.set_title(\n",
    "    '2-class Precision-Recall curve: '\n",
    "    'AP={0:0.2f}'.format(average_precision)\n",
    ")"
   ]
  },
  {
   "cell_type": "code",
   "execution_count": 30,
   "metadata": {},
   "outputs": [],
   "source": [
    "import tensorflow as tf\n",
    "import tensorflow_probability as tfp\n",
    "tfd = tfp.distributions\n",
    "from tensorflow import keras\n",
    "\n",
    "negloglik = lambda y, p_y: -p_y.log_prob(y)\n",
    "\n",
    "model = keras.Sequential([\n",
    "  keras.layers.Dense(12, activation='relu', name='hidden'),\n",
    "  keras.layers.Dense(1, name='output'),\n",
    "  tfp.layers.DistributionLambda(\n",
    "      lambda t: tfd.Bernoulli(logits=t)\n",
    "  ),\n",
    "])\n",
    "\n",
    "model.compile(optimizer=tf.optimizers.Adagrad(learning_rate=0.05), loss=negloglik)\n"
   ]
  }
 ],
 "metadata": {
  "kernelspec": {
   "display_name": "Python 3",
   "language": "python",
   "name": "python3"
  },
  "language_info": {
   "codemirror_mode": {
    "name": "ipython",
    "version": 3
   },
   "file_extension": ".py",
   "mimetype": "text/x-python",
   "name": "python",
   "nbconvert_exporter": "python",
   "pygments_lexer": "ipython3",
   "version": "3.6.11"
  }
 },
 "nbformat": 4,
 "nbformat_minor": 2
}
