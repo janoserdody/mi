{
 "cells": [
  {
   "cell_type": "code",
   "execution_count": 1,
   "metadata": {},
   "outputs": [],
   "source": [
    "import matplotlib\n",
    "%matplotlib inline \n",
    "\n",
    "matplotlib.rc('figure', figsize=(12, 5))\n",
    "font = {'family' : 'normal',\n",
    "        'weight' : 'bold',\n",
    "        'size'   : 16}\n",
    "\n",
    "matplotlib.rc('font', **font)"
   ]
  },
  {
   "cell_type": "markdown",
   "metadata": {},
   "source": [
    "# Simulated annealing"
   ]
  },
  {
   "cell_type": "code",
   "execution_count": 2,
   "metadata": {},
   "outputs": [],
   "source": [
    "# September 2018 - Luke Harold Miles - Public Domain\n",
    "# Simulated annealing solution to traveling salesman problem\n",
    "# adapted from https://gist.github.com/qpwo/a46274751cc5db2ab1d936980072a134\n",
    "import numpy as np\n",
    "\n",
    "\n",
    "def find_tour(cities, dist_fun, iterations=10**5):\n",
    "    def calc_distance():\n",
    "        \"\"\"sum of distance to and from i and j in tour\n",
    "        \"\"\"\n",
    "        return sum(\n",
    "            dist_fun(\n",
    "                cities[tour[k % n]],\n",
    "                cities[tour[(k + 1) % n]]\n",
    "            )\n",
    "            for k in [j - 1, j, i - 1, i]\n",
    "        )\n",
    "    \n",
    "    n = len(cities)\n",
    "    # initial tour randomly initialized\n",
    "    tour = np.random.permutation(n)\n",
    "    lengths = []\n",
    "    for temperature in np.logspace(4, 0, num=iterations):\n",
    "        i = np.random.randint(n - 1) # city 1\n",
    "        j = np.random.randint(i + 1, n) # city 2\n",
    "        old_length = calc_distance()\n",
    "        tour[[i, j]] = tour[[j, i]] # swap i and j in tour\n",
    "        new_length = calc_distance()\n",
    "        if np.exp((old_length - new_length) / temperature) < np.random.random():  # swap was mistake\n",
    "            tour[[i, j]] = tour[[j, i]]  # swap them back\n",
    "            lengths.append(old_length)\n",
    "        else:\n",
    "            lengths.append(new_length)            \n",
    "    return tour, lengths"
   ]
  },
  {
   "cell_type": "code",
   "execution_count": 3,
   "metadata": {},
   "outputs": [],
   "source": [
    "from matplotlib import pyplot as plt\n",
    "%matplotlib inline\n",
    "\n",
    "def plot_solution(cities, tour):\n",
    "    xcoords, ycoords = list(zip(*cities[tour].tolist(), cities[tour[0]].tolist()))\n",
    "    plt.plot(xcoords, ycoords, 'xb-')\n",
    "    plt.show() # graph the tour"
   ]
  },
  {
   "cell_type": "code",
   "execution_count": 5,
   "metadata": {},
   "outputs": [],
   "source": [
    "cities = np.random.randint(0, 100, (15, 2))\n",
    "# scipy.spatial.distance.euclidean\n",
    "def euclidean_distance(c1, c2):\n",
    "    return np.linalg.norm(c1 - c2)"
   ]
  },
  {
   "cell_type": "code",
   "execution_count": 6,
   "metadata": {},
   "outputs": [],
   "source": [
    "from scipy.spatial.distance import euclidean"
   ]
  },
  {
   "cell_type": "code",
   "execution_count": 8,
   "metadata": {},
   "outputs": [
    {
     "name": "stdout",
     "output_type": "stream",
     "text": [
      "length: 78.76978050285095\n"
     ]
    }
   ],
   "source": [
    "tour, lengths = find_tour(cities, euclidean, iterations=1000000)\n",
    "print(f'length: {lengths[-1]}')"
   ]
  },
  {
   "cell_type": "code",
   "execution_count": 9,
   "metadata": {},
   "outputs": [
    {
     "name": "stderr",
     "output_type": "stream",
     "text": [
      "findfont: Font family ['normal'] not found. Falling back to DejaVu Sans.\n"
     ]
    },
    {
     "data": {
      "image/png": "[encoded data removed]",
      "text/plain": [
       "<Figure size 432x288 with 1 Axes>"
      ]
     },
     "metadata": {
      "needs_background": "light"
     },
     "output_type": "display_data"
    }
   ],
   "source": [
    "plot_solution(cities, tour)"
   ]
  },
  {
   "cell_type": "code",
   "execution_count": 10,
   "metadata": {},
   "outputs": [],
   "source": [
    "# plt.plot(t, t, 'r--', t, t**2, 'bs', t, t**3, 'g^')\n",
    "from scipy.stats import sem\n",
    "\n",
    "def plot_learning(iterations: int, lengths, disp_iter=1000):\n",
    "    bin_size = int(iterations // float(min([iterations, disp_iter])))\n",
    "    errors = np.reshape(lengths, newshape=(-1, bin_size))\n",
    "    iters = np.reshape(list(range(iterations)), newshape=(-1, bin_size))\n",
    "    plt.errorbar(\n",
    "        iters.mean(axis=1),\n",
    "        errors.mean(axis=1),\n",
    "        yerr=sem(errors, axis=1),\n",
    "        fmt='--o',\n",
    "    )\n",
    "    plt.ylabel('distance')\n",
    "    plt.xlabel('iterations')"
   ]
  },
  {
   "cell_type": "code",
   "execution_count": 11,
   "metadata": {
    "scrolled": true
   },
   "outputs": [
    {
     "name": "stderr",
     "output_type": "stream",
     "text": [
      "findfont: Font family ['normal'] not found. Falling back to DejaVu Sans.\n"
     ]
    },
    {
     "data": {
      "image/png": "[encoded data removed]",
      "text/plain": [
       "<Figure size 432x288 with 1 Axes>"
      ]
     },
     "metadata": {
      "needs_background": "light"
     },
     "output_type": "display_data"
    }
   ],
   "source": [
    "plot_learning(1000000, lengths)"
   ]
  },
  {
   "cell_type": "markdown",
   "metadata": {},
   "source": [
    "# Ant Colony Optimization"
   ]
  },
  {
   "cell_type": "code",
   "execution_count": 12,
   "metadata": {},
   "outputs": [
    {
     "name": "stdout",
     "output_type": "stream",
     "text": [
      "Collecting scikit-opt\n",
      "  Downloading scikit_opt-0.5.9-py3-none-any.whl (27 kB)\n",
      "Requirement already satisfied: numpy in /Users/ben/anaconda3/lib/python3.6/site-packages (from scikit-opt) (1.18.5)\n",
      "Requirement already satisfied: scipy in /Users/ben/anaconda3/lib/python3.6/site-packages (from scikit-opt) (1.5.2)\n",
      "Installing collected packages: scikit-opt\n",
      "Successfully installed scikit-opt-0.5.9\n",
      "Note: you may need to restart the kernel to use updated packages.\n"
     ]
    }
   ],
   "source": [
    "!pip install scikit-opt"
   ]
  },
  {
   "cell_type": "code",
   "execution_count": 13,
   "metadata": {},
   "outputs": [],
   "source": [
    "from scipy import spatial\n",
    "\n",
    "distance_matrix = spatial.distance.cdist(cities, cities, metric='euclidean')\n",
    "num_points = cities.shape[0]"
   ]
  },
  {
   "cell_type": "code",
   "execution_count": 16,
   "metadata": {},
   "outputs": [],
   "source": [
    "from sko.ACA import ACA_TSP\n",
    "\n",
    "N = len(distance_matrix)\n",
    "def cal_total_distance(tour):\n",
    "    '''The objective function. input tour, return total distance.\n",
    "    cal_total_distance(np.arange(num_points))\n",
    "    '''\n",
    "    return sum([\n",
    "        distance_matrix[tour[i % N], tour[(i + 1) % N]]\n",
    "        for i in range(N)\n",
    "    ])\n",
    "\n",
    "aca = ACA_TSP(func=cal_total_distance, n_dim=N,\n",
    "              size_pop=num_points, max_iter=200,\n",
    "              distance_matrix=distance_matrix)\n",
    "\n",
    "best_x, dist = aca.run()"
   ]
  },
  {
   "cell_type": "code",
   "execution_count": 17,
   "metadata": {},
   "outputs": [],
   "source": [
    "import pandas as pd"
   ]
  },
  {
   "cell_type": "code",
   "execution_count": 18,
   "metadata": {},
   "outputs": [
    {
     "data": {
      "text/plain": [
       "<matplotlib.axes._subplots.AxesSubplot at 0x7fc8e6368e10>"
      ]
     },
     "execution_count": 18,
     "metadata": {},
     "output_type": "execute_result"
    },
    {
     "data": {
      "image/png": "[encoded data removed]",
      "text/plain": [
       "<Figure size 432x288 with 2 Axes>"
      ]
     },
     "metadata": {
      "needs_background": "light"
     },
     "output_type": "display_data"
    }
   ],
   "source": [
    "fig, ax = plt.subplots(1, 2)\n",
    "best_points_ = np.concatenate([best_x, [best_x[0]]])\n",
    "best_points_coordinate = cities[best_points_, :]\n",
    "ax[0].plot(best_points_coordinate[:, 0], best_points_coordinate[:, 1], 'o-r')\n",
    "pd.DataFrame(aca.y_best_history).cummin().plot(ax=ax[1])"
   ]
  },
  {
   "cell_type": "markdown",
   "metadata": {},
   "source": [
    "# Mixed Integer Programming"
   ]
  },
  {
   "cell_type": "code",
   "execution_count": 19,
   "metadata": {},
   "outputs": [
    {
     "name": "stdout",
     "output_type": "stream",
     "text": [
      "Collecting mip\n",
      "  Downloading mip-1.12.0-py3-none-any.whl (47.1 MB)\n",
      "\u001b[K     |████████████████████████████████| 47.1 MB 3.4 MB/s eta 0:00:012   |███                             | 4.5 MB 2.7 MB/s eta 0:00:16     |██████████                      | 14.8 MB 3.5 MB/s eta 0:00:10     |████████████████▎               | 24.0 MB 6.0 MB/s eta 0:00:04     |███████████████████████████     | 39.7 MB 4.7 MB/s eta 0:00:02\n",
      "\u001b[?25hRequirement already satisfied: cffi in /Users/ben/anaconda3/lib/python3.6/site-packages (from mip) (1.14.1)\n",
      "Requirement already satisfied: pycparser in /Users/ben/anaconda3/lib/python3.6/site-packages (from cffi->mip) (2.20)\n",
      "Installing collected packages: mip\n",
      "Successfully installed mip-1.12.0\n",
      "Note: you may need to restart the kernel to use updated packages.\n"
     ]
    }
   ],
   "source": [
    "pip install mip"
   ]
  },
  {
   "cell_type": "code",
   "execution_count": 20,
   "metadata": {},
   "outputs": [
    {
     "name": "stdout",
     "output_type": "stream",
     "text": [
      "route with total distance 355.413 found\n"
     ]
    }
   ],
   "source": [
    "from itertools import product\n",
    "from mip import Model, xsum, minimize, BINARY\n",
    "# adapted from https://python-mip.readthedocs.io/en/latest/examples.html\n",
    "\n",
    "# number of nodes and list of vertices\n",
    "n, V = len(cities), set(range(len(cities)))\n",
    "\n",
    "# distances matrix\n",
    "c = distance_matrix\n",
    "\n",
    "model = Model()\n",
    "\n",
    "# binary variables indicating if arc (i,j) is used on the route or not\n",
    "x = [[model.add_var(var_type=BINARY) for j in V] for i in V]\n",
    "\n",
    "# continuous variable to prevent subtours: each city will have a\n",
    "# different sequential id in the planned route except the first one\n",
    "y = [model.add_var() for i in V]\n",
    "\n",
    "# objective function: minimize the distance\n",
    "model.objective = minimize(xsum(c[i][j]*x[i][j] for i in V for j in V))\n",
    "\n",
    "# constraint : leave each city only once\n",
    "for i in V:\n",
    "    model += xsum(x[i][j] for j in V - {i}) == 1\n",
    "\n",
    "# constraint : enter each city only once\n",
    "for i in V:\n",
    "    model += xsum(x[j][i] for j in V - {i}) == 1\n",
    "\n",
    "# subtour elimination\n",
    "for (i, j) in product(V - {0}, V - {0}):\n",
    "    if i != j:\n",
    "        model += y[i] - (n+1)*x[i][j] >= y[j]-n\n",
    "\n",
    "# optimizing\n",
    "model.optimize(max_seconds=30)\n",
    "\n",
    "# checking if a solution was found\n",
    "if model.num_solutions:\n",
    "    tour = []\n",
    "    print(\n",
    "        'route with total distance %g found'\n",
    "        % model.objective_value\n",
    "    )\n",
    "    nc = 0\n",
    "    while True:\n",
    "        nc = [i for i in V if x[nc][i].x >= 0.99][0]\n",
    "        tour.append(nc)\n",
    "        #print(' -> %s' % places[nc])\n",
    "        if nc == 0:\n",
    "            break"
   ]
  },
  {
   "cell_type": "code",
   "execution_count": 21,
   "metadata": {},
   "outputs": [
    {
     "data": {
      "image/png": "[encoded data removed]",
      "text/plain": [
       "<Figure size 432x288 with 1 Axes>"
      ]
     },
     "metadata": {
      "needs_background": "light"
     },
     "output_type": "display_data"
    }
   ],
   "source": [
    "plot_solution(cities, tour)"
   ]
  },
  {
   "cell_type": "code",
   "execution_count": null,
   "metadata": {},
   "outputs": [],
   "source": []
  }
 ],
 "metadata": {
  "kernelspec": {
   "display_name": "Python 3",
   "language": "python",
   "name": "python3"
  },
  "language_info": {
   "codemirror_mode": {
    "name": "ipython",
    "version": 3
   },
   "file_extension": ".py",
   "mimetype": "text/x-python",
   "name": "python",
   "nbconvert_exporter": "python",
   "pygments_lexer": "ipython3",
   "version": "3.6.11"
  }
 },
 "nbformat": 4,
 "nbformat_minor": 2
}
