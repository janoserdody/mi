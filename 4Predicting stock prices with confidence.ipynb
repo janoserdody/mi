{
 "cells": [
  {
   "cell_type": "code",
   "execution_count": 1,
   "metadata": {},
   "outputs": [
    {
     "name": "stdout",
     "output_type": "stream",
     "text": [
      "Collecting yfinance\n",
      "  Downloading yfinance-0.1.55.tar.gz (23 kB)\n",
      "Requirement already satisfied: pandas>=0.24 in /Users/ben/anaconda3/lib/python3.6/site-packages (from yfinance) (1.1.0)\n",
      "Requirement already satisfied: numpy>=1.15 in /Users/ben/anaconda3/lib/python3.6/site-packages (from yfinance) (1.19.1)\n",
      "Requirement already satisfied: requests>=2.20 in /Users/ben/anaconda3/lib/python3.6/site-packages (from yfinance) (2.24.0)\n",
      "Collecting multitasking>=0.0.7\n",
      "  Downloading multitasking-0.0.9.tar.gz (8.1 kB)\n",
      "Collecting lxml>=4.5.1\n",
      "  Downloading lxml-4.6.0-cp36-cp36m-macosx_10_9_x86_64.whl (4.6 MB)\n",
      "\u001b[K     |████████████████████████████████| 4.6 MB 2.4 MB/s eta 0:00:01\n",
      "\u001b[?25hRequirement already satisfied: python-dateutil>=2.7.3 in /Users/ben/anaconda3/lib/python3.6/site-packages (from pandas>=0.24->yfinance) (2.8.1)\n",
      "Requirement already satisfied: pytz>=2017.2 in /Users/ben/anaconda3/lib/python3.6/site-packages (from pandas>=0.24->yfinance) (2018.7)\n",
      "Requirement already satisfied: chardet<4,>=3.0.2 in /Users/ben/anaconda3/lib/python3.6/site-packages (from requests>=2.20->yfinance) (3.0.4)\n",
      "Requirement already satisfied: idna<3,>=2.5 in /Users/ben/anaconda3/lib/python3.6/site-packages (from requests>=2.20->yfinance) (2.10)\n",
      "Requirement already satisfied: urllib3!=1.25.0,!=1.25.1,<1.26,>=1.21.1 in /Users/ben/anaconda3/lib/python3.6/site-packages (from requests>=2.20->yfinance) (1.25.10)\n",
      "Requirement already satisfied: certifi>=2017.4.17 in /Users/ben/anaconda3/lib/python3.6/site-packages (from requests>=2.20->yfinance) (2020.6.20)\n",
      "Requirement already satisfied: six>=1.5 in /Users/ben/anaconda3/lib/python3.6/site-packages (from python-dateutil>=2.7.3->pandas>=0.24->yfinance) (1.15.0)\n",
      "Building wheels for collected packages: yfinance, multitasking\n",
      "  Building wheel for yfinance (setup.py) ... \u001b[?25ldone\n",
      "\u001b[?25h  Created wheel for yfinance: filename=yfinance-0.1.55-py2.py3-none-any.whl size=22618 sha256=e7cb7670928e6f8a5f0c3764f36859331695f7d4266ec3b1fa34e1716bc1acfd\n",
      "  Stored in directory: /Users/ben/Library/Caches/pip/wheels/68/72/87/a384b8b8139f2489024464d6f5937e6acb2054c57d25519fb9\n",
      "  Building wheel for multitasking (setup.py) ... \u001b[?25ldone\n",
      "\u001b[?25h  Created wheel for multitasking: filename=multitasking-0.0.9-py3-none-any.whl size=8367 sha256=c3ed619b5b269bd6d0ecb7c3e57a4efd06c64b6b194cea6396cec0bbcff3f48a\n",
      "  Stored in directory: /Users/ben/Library/Caches/pip/wheels/5e/8a/c4/59c699498647c7c94b14c87a904ca7540646107b3d94b7c320\n",
      "Successfully built yfinance multitasking\n",
      "Installing collected packages: multitasking, lxml, yfinance\n",
      "  Attempting uninstall: lxml\n",
      "    Found existing installation: lxml 4.2.5\n",
      "    Uninstalling lxml-4.2.5:\n",
      "      Successfully uninstalled lxml-4.2.5\n",
      "Successfully installed lxml-4.6.0 multitasking-0.0.9 yfinance-0.1.55\n"
     ]
    }
   ],
   "source": [
    "!pip install yfinance"
   ]
  },
  {
   "cell_type": "code",
   "execution_count": 2,
   "metadata": {},
   "outputs": [],
   "source": [
    "import yfinance as yf\n",
    "\n",
    "msft = yf.Ticker(\"MSFT\")\n",
    "\n",
    "# get stock info\n",
    "msft.info\n",
    "\n",
    "# get historical market data\n",
    "hist = msft.history(period=\"max\")"
   ]
  },
  {
   "cell_type": "code",
   "execution_count": 3,
   "metadata": {},
   "outputs": [
    {
     "name": "stdout",
     "output_type": "stream",
     "text": [
      "Collecting pymc3\n",
      "  Downloading pymc3-3.9.3-py3-none-any.whl (1.9 MB)\n",
      "\u001b[K     |████████████████████████████████| 1.9 MB 2.1 MB/s eta 0:00:01\n",
      "\u001b[?25hRequirement already satisfied, skipping upgrade: scipy>=0.18.1 in /Users/ben/anaconda3/lib/python3.6/site-packages (from pymc3) (1.5.2)\n",
      "Collecting contextvars; python_version < \"3.7\"\n",
      "  Downloading contextvars-2.4.tar.gz (9.6 kB)\n",
      "Requirement already satisfied, skipping upgrade: dataclasses; python_version < \"3.7\" in /Users/ben/anaconda3/lib/python3.6/site-packages (from pymc3) (0.7)\n",
      "Requirement already satisfied, skipping upgrade: typing-extensions>=3.7.4 in /Users/ben/anaconda3/lib/python3.6/site-packages (from pymc3) (3.7.4.3)\n",
      "Requirement already satisfied, skipping upgrade: h5py>=2.7.0 in /Users/ben/anaconda3/lib/python3.6/site-packages (from pymc3) (2.10.0)\n",
      "Requirement already satisfied, skipping upgrade: numpy>=1.13.0 in /Users/ben/anaconda3/lib/python3.6/site-packages (from pymc3) (1.19.1)\n",
      "Collecting fastprogress>=0.2.0\n",
      "  Downloading fastprogress-1.0.0-py3-none-any.whl (12 kB)\n",
      "Requirement already satisfied, skipping upgrade: patsy>=0.5.1 in /Users/ben/anaconda3/lib/python3.6/site-packages (from pymc3) (0.5.1)\n",
      "Requirement already satisfied, skipping upgrade: pandas>=0.18.0 in /Users/ben/anaconda3/lib/python3.6/site-packages (from pymc3) (1.1.0)\n",
      "Collecting arviz>=0.9.0\n",
      "  Downloading arviz-0.10.0-py3-none-any.whl (1.5 MB)\n",
      "\u001b[K     |████████████████████████████████| 1.5 MB 38.6 MB/s eta 0:00:01\n",
      "\u001b[?25hCollecting theano>=1.0.5\n",
      "  Downloading Theano-1.0.5.tar.gz (2.8 MB)\n",
      "\u001b[K     |████████████████████████████████| 2.8 MB 9.7 MB/s eta 0:00:01     |██████████████████████████▌     | 2.4 MB 9.7 MB/s eta 0:00:01\n",
      "\u001b[?25hCollecting immutables>=0.9\n",
      "  Downloading immutables-0.14-cp36-cp36m-macosx_10_14_x86_64.whl (52 kB)\n",
      "\u001b[K     |████████████████████████████████| 52 kB 1.4 MB/s eta 0:00:01\n",
      "\u001b[?25hRequirement already satisfied, skipping upgrade: six in /Users/ben/anaconda3/lib/python3.6/site-packages (from h5py>=2.7.0->pymc3) (1.15.0)\n",
      "Requirement already satisfied, skipping upgrade: pytz>=2017.2 in /Users/ben/anaconda3/lib/python3.6/site-packages (from pandas>=0.18.0->pymc3) (2018.7)\n",
      "Requirement already satisfied, skipping upgrade: python-dateutil>=2.7.3 in /Users/ben/anaconda3/lib/python3.6/site-packages (from pandas>=0.18.0->pymc3) (2.8.1)\n",
      "Requirement already satisfied, skipping upgrade: matplotlib>=3.0 in /Users/ben/.local/lib/python3.6/site-packages (from arviz>=0.9.0->pymc3) (3.2.2)\n",
      "Requirement already satisfied, skipping upgrade: netcdf4 in /Users/ben/anaconda3/lib/python3.6/site-packages (from arviz>=0.9.0->pymc3) (1.5.3)\n",
      "Requirement already satisfied, skipping upgrade: setuptools>=38.4 in /Users/ben/anaconda3/lib/python3.6/site-packages (from arviz>=0.9.0->pymc3) (49.6.0.post20200814)\n",
      "Requirement already satisfied, skipping upgrade: packaging in /Users/ben/anaconda3/lib/python3.6/site-packages (from arviz>=0.9.0->pymc3) (20.4)\n",
      "Collecting xarray>=0.16.1\n",
      "  Downloading xarray-0.16.1-py3-none-any.whl (720 kB)\n",
      "\u001b[K     |████████████████████████████████| 720 kB 6.4 MB/s eta 0:00:01\n",
      "\u001b[?25hRequirement already satisfied, skipping upgrade: cycler>=0.10 in /Users/ben/anaconda3/lib/python3.6/site-packages (from matplotlib>=3.0->arviz>=0.9.0->pymc3) (0.10.0)\n",
      "Requirement already satisfied, skipping upgrade: pyparsing!=2.0.4,!=2.1.2,!=2.1.6,>=2.0.1 in /Users/ben/anaconda3/lib/python3.6/site-packages (from matplotlib>=3.0->arviz>=0.9.0->pymc3) (2.4.7)\n",
      "Requirement already satisfied, skipping upgrade: kiwisolver>=1.0.1 in /Users/ben/anaconda3/lib/python3.6/site-packages (from matplotlib>=3.0->arviz>=0.9.0->pymc3) (1.0.1)\n",
      "Requirement already satisfied, skipping upgrade: cftime in /Users/ben/anaconda3/lib/python3.6/site-packages (from netcdf4->arviz>=0.9.0->pymc3) (1.0.4.2)\n",
      "Building wheels for collected packages: contextvars, theano\n",
      "  Building wheel for contextvars (setup.py) ... \u001b[?25ldone\n",
      "\u001b[?25h  Created wheel for contextvars: filename=contextvars-2.4-py3-none-any.whl size=7665 sha256=5f2aa42525589b38513544967bb4af4c07203e01ccca9f6e7c45de7ae9040d74\n",
      "  Stored in directory: /Users/ben/Library/Caches/pip/wheels/41/11/53/911724983aa48deb94792432e14e518447212dd6c5477d49d3\n",
      "  Building wheel for theano (setup.py) ... \u001b[?25ldone\n",
      "\u001b[?25h  Created wheel for theano: filename=Theano-1.0.5-py3-none-any.whl size=2668095 sha256=ae96e21415933c8228c88bced1d95da4321d1145f199c69b70da53171dce1429\n",
      "  Stored in directory: /Users/ben/Library/Caches/pip/wheels/7f/80/57/2970ddd2e4961d84fb0d58196f4965deead046d29e08693e73\n",
      "Successfully built contextvars theano\n",
      "Installing collected packages: immutables, contextvars, fastprogress, xarray, arviz, theano, pymc3\n",
      "  Attempting uninstall: xarray\n",
      "    Found existing installation: xarray 0.14.1\n",
      "    Uninstalling xarray-0.14.1:\n",
      "      Successfully uninstalled xarray-0.14.1\n",
      "  Attempting uninstall: arviz\n",
      "    Found existing installation: arviz 0.6.1\n",
      "    Uninstalling arviz-0.6.1:\n",
      "      Successfully uninstalled arviz-0.6.1\n",
      "  Attempting uninstall: theano\n",
      "    Found existing installation: Theano 1.0.4\n",
      "    Uninstalling Theano-1.0.4:\n",
      "      Successfully uninstalled Theano-1.0.4\n",
      "  Attempting uninstall: pymc3\n",
      "    Found existing installation: pymc3 3.8\n",
      "    Uninstalling pymc3-3.8:\n",
      "      Successfully uninstalled pymc3-3.8\n",
      "Successfully installed arviz-0.10.0 contextvars-2.4 fastprogress-1.0.0 immutables-0.14 pymc3-3.9.3 theano-1.0.5 xarray-0.16.1\n"
     ]
    }
   ],
   "source": [
    "# later we'll use this one:\n",
    "!pip install -U pymc3"
   ]
  },
  {
   "cell_type": "code",
   "execution_count": 4,
   "metadata": {},
   "outputs": [
    {
     "name": "stdout",
     "output_type": "stream",
     "text": [
      "Requirement already satisfied: pymc-learn in /Users/ben/anaconda3/lib/python3.6/site-packages (0.0.1rc3)\n",
      "Requirement already satisfied: pandas>=0.21.1 in /Users/ben/anaconda3/lib/python3.6/site-packages (from pymc-learn) (1.1.0)\n",
      "Requirement already satisfied: seaborn>=0.8.1 in /Users/ben/anaconda3/lib/python3.6/site-packages (from pymc-learn) (0.9.0)\n",
      "Requirement already satisfied: scipy>=1.0.0 in /Users/ben/anaconda3/lib/python3.6/site-packages (from pymc-learn) (1.5.2)\n",
      "Requirement already satisfied: theano>=1.0.0 in /Users/ben/anaconda3/lib/python3.6/site-packages (from pymc-learn) (1.0.5)\n",
      "Requirement already satisfied: numpy>=1.13.1 in /Users/ben/anaconda3/lib/python3.6/site-packages (from pymc-learn) (1.19.1)\n",
      "Requirement already satisfied: scikit-learn>=0.19.1 in /Users/ben/anaconda3/lib/python3.6/site-packages (from pymc-learn) (0.23.2)\n",
      "Requirement already satisfied: matplotlib>=2.1.1 in /Users/ben/.local/lib/python3.6/site-packages (from pymc-learn) (3.2.2)\n",
      "Requirement already satisfied: joblib>=0.11 in /Users/ben/anaconda3/lib/python3.6/site-packages (from pymc-learn) (0.16.0)\n",
      "Requirement already satisfied: tqdm>=4.8.4 in /Users/ben/.local/lib/python3.6/site-packages (from pymc-learn) (4.47.0)\n",
      "Requirement already satisfied: pymc3>=3.4.1 in /Users/ben/anaconda3/lib/python3.6/site-packages (from pymc-learn) (3.9.3)\n",
      "Requirement already satisfied: six>=1.10.0 in /Users/ben/anaconda3/lib/python3.6/site-packages (from pymc-learn) (1.15.0)\n",
      "Requirement already satisfied: numpydoc>=0.7.0 in /Users/ben/anaconda3/lib/python3.6/site-packages (from pymc-learn) (0.8.0)\n",
      "Requirement already satisfied: future>=0.16.0 in /Users/ben/anaconda3/lib/python3.6/site-packages (from pymc-learn) (0.18.2)\n",
      "Requirement already satisfied: python-dateutil>=2.7.3 in /Users/ben/anaconda3/lib/python3.6/site-packages (from pandas>=0.21.1->pymc-learn) (2.8.1)\n",
      "Requirement already satisfied: pytz>=2017.2 in /Users/ben/anaconda3/lib/python3.6/site-packages (from pandas>=0.21.1->pymc-learn) (2018.7)\n",
      "Requirement already satisfied: threadpoolctl>=2.0.0 in /Users/ben/anaconda3/lib/python3.6/site-packages (from scikit-learn>=0.19.1->pymc-learn) (2.1.0)\n",
      "Requirement already satisfied: kiwisolver>=1.0.1 in /Users/ben/anaconda3/lib/python3.6/site-packages (from matplotlib>=2.1.1->pymc-learn) (1.0.1)\n",
      "Requirement already satisfied: cycler>=0.10 in /Users/ben/anaconda3/lib/python3.6/site-packages (from matplotlib>=2.1.1->pymc-learn) (0.10.0)\n",
      "Requirement already satisfied: pyparsing!=2.0.4,!=2.1.2,!=2.1.6,>=2.0.1 in /Users/ben/anaconda3/lib/python3.6/site-packages (from matplotlib>=2.1.1->pymc-learn) (2.4.7)\n",
      "Requirement already satisfied: patsy>=0.5.1 in /Users/ben/anaconda3/lib/python3.6/site-packages (from pymc3>=3.4.1->pymc-learn) (0.5.1)\n",
      "Requirement already satisfied: h5py>=2.7.0 in /Users/ben/anaconda3/lib/python3.6/site-packages (from pymc3>=3.4.1->pymc-learn) (2.10.0)\n",
      "Requirement already satisfied: dataclasses; python_version < \"3.7\" in /Users/ben/anaconda3/lib/python3.6/site-packages (from pymc3>=3.4.1->pymc-learn) (0.7)\n",
      "Requirement already satisfied: contextvars; python_version < \"3.7\" in /Users/ben/anaconda3/lib/python3.6/site-packages (from pymc3>=3.4.1->pymc-learn) (2.4)\n",
      "Requirement already satisfied: typing-extensions>=3.7.4 in /Users/ben/anaconda3/lib/python3.6/site-packages (from pymc3>=3.4.1->pymc-learn) (3.7.4.3)\n",
      "Requirement already satisfied: arviz>=0.9.0 in /Users/ben/anaconda3/lib/python3.6/site-packages (from pymc3>=3.4.1->pymc-learn) (0.10.0)\n",
      "Requirement already satisfied: fastprogress>=0.2.0 in /Users/ben/anaconda3/lib/python3.6/site-packages (from pymc3>=3.4.1->pymc-learn) (1.0.0)\n",
      "Requirement already satisfied: sphinx>=1.2.3 in /Users/ben/anaconda3/lib/python3.6/site-packages (from numpydoc>=0.7.0->pymc-learn) (1.8.2)\n",
      "Requirement already satisfied: Jinja2>=2.3 in /Users/ben/anaconda3/lib/python3.6/site-packages (from numpydoc>=0.7.0->pymc-learn) (2.11.2)\n",
      "Requirement already satisfied: setuptools in /Users/ben/anaconda3/lib/python3.6/site-packages (from kiwisolver>=1.0.1->matplotlib>=2.1.1->pymc-learn) (49.6.0.post20200814)\n",
      "Requirement already satisfied: immutables>=0.9 in /Users/ben/anaconda3/lib/python3.6/site-packages (from contextvars; python_version < \"3.7\"->pymc3>=3.4.1->pymc-learn) (0.14)\n",
      "Requirement already satisfied: packaging in /Users/ben/anaconda3/lib/python3.6/site-packages (from arviz>=0.9.0->pymc3>=3.4.1->pymc-learn) (20.4)\n",
      "Requirement already satisfied: xarray>=0.16.1 in /Users/ben/anaconda3/lib/python3.6/site-packages (from arviz>=0.9.0->pymc3>=3.4.1->pymc-learn) (0.16.1)\n",
      "Requirement already satisfied: netcdf4 in /Users/ben/anaconda3/lib/python3.6/site-packages (from arviz>=0.9.0->pymc3>=3.4.1->pymc-learn) (1.5.3)\n",
      "Requirement already satisfied: Pygments>=2.0 in /Users/ben/anaconda3/lib/python3.6/site-packages (from sphinx>=1.2.3->numpydoc>=0.7.0->pymc-learn) (2.3.1)\n",
      "Requirement already satisfied: docutils>=0.11 in /Users/ben/anaconda3/lib/python3.6/site-packages (from sphinx>=1.2.3->numpydoc>=0.7.0->pymc-learn) (0.14)\n",
      "Requirement already satisfied: snowballstemmer>=1.1 in /Users/ben/anaconda3/lib/python3.6/site-packages (from sphinx>=1.2.3->numpydoc>=0.7.0->pymc-learn) (1.2.1)\n",
      "Requirement already satisfied: babel!=2.0,>=1.3 in /Users/ben/anaconda3/lib/python3.6/site-packages (from sphinx>=1.2.3->numpydoc>=0.7.0->pymc-learn) (2.6.0)\n",
      "Requirement already satisfied: alabaster<0.8,>=0.7 in /Users/ben/anaconda3/lib/python3.6/site-packages (from sphinx>=1.2.3->numpydoc>=0.7.0->pymc-learn) (0.7.12)\n",
      "Requirement already satisfied: imagesize in /Users/ben/anaconda3/lib/python3.6/site-packages (from sphinx>=1.2.3->numpydoc>=0.7.0->pymc-learn) (1.1.0)\n",
      "Requirement already satisfied: requests>=2.0.0 in /Users/ben/anaconda3/lib/python3.6/site-packages (from sphinx>=1.2.3->numpydoc>=0.7.0->pymc-learn) (2.24.0)\n",
      "Requirement already satisfied: sphinxcontrib-websupport in /Users/ben/anaconda3/lib/python3.6/site-packages (from sphinx>=1.2.3->numpydoc>=0.7.0->pymc-learn) (1.1.0)\n",
      "Requirement already satisfied: MarkupSafe>=0.23 in /Users/ben/anaconda3/lib/python3.6/site-packages (from Jinja2>=2.3->numpydoc>=0.7.0->pymc-learn) (1.1.0)\n",
      "Requirement already satisfied: cftime in /Users/ben/anaconda3/lib/python3.6/site-packages (from netcdf4->arviz>=0.9.0->pymc3>=3.4.1->pymc-learn) (1.0.4.2)\n",
      "Requirement already satisfied: urllib3!=1.25.0,!=1.25.1,<1.26,>=1.21.1 in /Users/ben/anaconda3/lib/python3.6/site-packages (from requests>=2.0.0->sphinx>=1.2.3->numpydoc>=0.7.0->pymc-learn) (1.25.10)\n",
      "Requirement already satisfied: chardet<4,>=3.0.2 in /Users/ben/anaconda3/lib/python3.6/site-packages (from requests>=2.0.0->sphinx>=1.2.3->numpydoc>=0.7.0->pymc-learn) (3.0.4)\n",
      "Requirement already satisfied: idna<3,>=2.5 in /Users/ben/anaconda3/lib/python3.6/site-packages (from requests>=2.0.0->sphinx>=1.2.3->numpydoc>=0.7.0->pymc-learn) (2.10)\n",
      "Requirement already satisfied: certifi>=2017.4.17 in /Users/ben/anaconda3/lib/python3.6/site-packages (from requests>=2.0.0->sphinx>=1.2.3->numpydoc>=0.7.0->pymc-learn) (2020.6.20)\n"
     ]
    }
   ],
   "source": [
    "# ... and this one, based on the previous:\n",
    "!pip install pymc-learn"
   ]
  },
  {
   "cell_type": "code",
   "execution_count": 13,
   "metadata": {},
   "outputs": [],
   "source": [
    "import os\n",
    "#os.environ['THEANO_FLAGS'] = 'contexts=dev0->cuda0;dev1->cuda1'\n",
    "import theano\n",
    "# if you get a warning about pygpu imports, \n",
    "# you might have to install a different version of pygpu,\n",
    "# and restart the notebook. For example:\n",
    "# !pip install pygpu==0.7.6"
   ]
  },
  {
   "cell_type": "code",
   "execution_count": 14,
   "metadata": {},
   "outputs": [],
   "source": [
    "from typing import Tuple\n",
    "import numpy as np\n",
    "import pandas as pd\n",
    "import scipy\n",
    "\n",
    "\n",
    "def generate_data(\n",
    "    data: pd.DataFrame, window_size: int, shift: int\n",
    ") -> Tuple[np.array, np.array]:\n",
    "    '''Generates data, X and y, based on stock price\n",
    "    history given a window_size and a shift.\n",
    "    \n",
    "    The price level is extracted over a window, a\n",
    "    period of days, Finally, a day, shift days later,\n",
    "    is to be compared against.    \n",
    "\n",
    "    Parameters:\n",
    "    -----------\n",
    "    data - stock prices over time\n",
    "    window_size - window size; how many days in X\n",
    "    shift - which point to extract as y? This is\n",
    "        taken with respect to the last point in X.\n",
    "    \n",
    "    Returns:\n",
    "    --------\n",
    "    X - history of stock prices with their window\n",
    "    y - the stock prices in the future to be predicted\n",
    "    \n",
    "    X - Windows are normalized to mean 0 and then \n",
    "    differenced (each value in a window to the \n",
    "    previous values) - as percentage change. The\n",
    "    differencing step is to introduce a measure of \n",
    "    stationarity. \n",
    "    \n",
    "    y - as percentage change with respect to the\n",
    "    last value in the window.    \n",
    "    \n",
    "    This is to help to answer the following question:\n",
    "    Given the level of prices, are they going to\n",
    "    rise or to fall, and how much?    \n",
    "    '''\n",
    "    y = data.shift(shift + window_size)\n",
    "    observation_window = []\n",
    "    for i in range(window_size):\n",
    "        observation_window.append(\n",
    "            data.shift(i)\n",
    "        )\n",
    "    X = pd.concat(observation_window, axis=1)\n",
    "    y = (y - X.values[:, -1]) / X.values[:, -1]\n",
    "    X = X.pct_change(axis=1).values[:, 1:]\n",
    "    inds = (~np. isnan(X).any(axis=1)) & (~np. isnan(y))\n",
    "    X, y = X[inds], y[inds]\n",
    "    return X, y"
   ]
  },
  {
   "cell_type": "code",
   "execution_count": 15,
   "metadata": {},
   "outputs": [],
   "source": [
    "from sklearn.model_selection import train_test_split\n",
    "\n",
    "X, y = generate_data(hist.Close, shift=1, window_size=30)\n",
    "X_train, X_test, y_train, y_test = train_test_split(X, y)\n",
    "\n",
    "\n",
    "#from sklearn.preprocessing import StandardScaler\n",
    "#scaler = StandardScaler()\n",
    "#X_train = scaler.fit_transform(X_train)\n",
    "#X_test = scaler.transform(X_test)"
   ]
  },
  {
   "cell_type": "code",
   "execution_count": 16,
   "metadata": {},
   "outputs": [
    {
     "data": {
      "image/png": "[encoded data removed]",
      "text/plain": [
       "<Figure size 432x288 with 30 Axes>"
      ]
     },
     "metadata": {
      "needs_background": "light"
     },
     "output_type": "display_data"
    }
   ],
   "source": [
    "pd.DataFrame(X_train).hist();"
   ]
  },
  {
   "cell_type": "code",
   "execution_count": 17,
   "metadata": {},
   "outputs": [],
   "source": [
    "from matplotlib import pyplot as plt"
   ]
  },
  {
   "cell_type": "code",
   "execution_count": 18,
   "metadata": {},
   "outputs": [
    {
     "data": {
      "text/plain": [
       "Text(0.5, 0, 'values')"
      ]
     },
     "execution_count": 18,
     "metadata": {},
     "output_type": "execute_result"
    },
    {
     "data": {
      "image/png": "[encoded data removed]",
      "text/plain": [
       "<Figure size 432x288 with 1 Axes>"
      ]
     },
     "metadata": {
      "needs_background": "light"
     },
     "output_type": "display_data"
    }
   ],
   "source": [
    "pd.DataFrame(y_train).hist(bins=50)\n",
    "plt.ylabel('frequency')\n",
    "plt.xlabel('values')"
   ]
  },
  {
   "cell_type": "code",
   "execution_count": 19,
   "metadata": {},
   "outputs": [
    {
     "data": {
      "text/plain": [
       "0.4636980784719825"
      ]
     },
     "execution_count": 19,
     "metadata": {},
     "output_type": "execute_result"
    }
   ],
   "source": [
    "(y > 0).mean()"
   ]
  },
  {
   "cell_type": "code",
   "execution_count": 21,
   "metadata": {},
   "outputs": [
    {
     "data": {
      "text/plain": [
       "<matplotlib.axes._subplots.AxesSubplot at 0x7ff53c19cb00>"
      ]
     },
     "execution_count": 21,
     "metadata": {},
     "output_type": "execute_result"
    },
    {
     "data": {
      "image/png": "[encoded data removed]",
      "text/plain": [
       "<Figure size 432x288 with 1 Axes>"
      ]
     },
     "metadata": {
      "needs_background": "light"
     },
     "output_type": "display_data"
    }
   ],
   "source": [
    "def threshold_vector(x, threshold=0.02):\n",
    "    def threshold_scalar(f):\n",
    "        if f > threshold:\n",
    "            return 1\n",
    "        elif f < -threshold:\n",
    "            return -1\n",
    "        return 0\n",
    "    return np.vectorize(threshold_scalar)(x)\n",
    "\n",
    "y_train_classes, y_test_classes = threshold_vector(y_train), threshold_vector(y_test)\n",
    "pd.Series(threshold_vector(y)).hist(bins=3)"
   ]
  },
  {
   "cell_type": "code",
   "execution_count": 22,
   "metadata": {},
   "outputs": [],
   "source": [
    "import sklearn\n",
    "import scipy\n",
    "\n",
    "\n",
    "def to_one_hot(a, classes=[-1, 0, 1]):\n",
    "    \"\"\"convert from integer encoding to one-hot\"\"\"\n",
    "    b = np.zeros((a.size, 3))\n",
    "    b[np.arange(a.size), (np.rint(a)+1).astype(int)] = 1\n",
    "    return b\n",
    "\n",
    "def measure_perf(model, y_test):\n",
    "    y_pred = model.predict(X_test)\n",
    "    print('AUC: {:.3f}'.format(\n",
    "        sklearn.metrics.roc_auc_score(\n",
    "            to_one_hot(y_test), to_one_hot(y_pred), multi_class='ovo'\n",
    "    )))\n",
    "    print('mse pred: {}'.format(\n",
    "        sklearn.metrics.mean_squared_error(y_test, y_pred)\n",
    "    ))\n",
    "    if hasattr(model, 'predict_proba'):\n",
    "        y_pred_proba = model.predict_proba(X_test)\n",
    "        y_pred_reg = np.average(\n",
    "            np.repeat(\n",
    "                np.array([-1, 0, 1]).reshape(1, -1),\n",
    "                X_test.shape[0],\n",
    "                axis=0\n",
    "            ),\n",
    "            axis=1,\n",
    "            weights=y_pred_proba\n",
    "        )    \n",
    "        print('mse prob: {}'.format(\n",
    "            sklearn.metrics.mean_squared_error(y_test, y_pred_reg)\n",
    "        ))\n",
    "        \n",
    "\n",
    "assert to_one_hot(y_test_classes.astype(int)).shape[1] == 3"
   ]
  },
  {
   "cell_type": "code",
   "execution_count": 24,
   "metadata": {},
   "outputs": [
    {
     "data": {
      "image/png": "[encoded data removed]",
      "text/plain": [
       "<Figure size 432x288 with 1 Axes>"
      ]
     },
     "metadata": {
      "needs_background": "light"
     },
     "output_type": "display_data"
    }
   ],
   "source": [
    "pd.Series(y_test).hist();"
   ]
  },
  {
   "cell_type": "code",
   "execution_count": 26,
   "metadata": {},
   "outputs": [
    {
     "data": {
      "image/png": "[encoded data removed]",
      "text/plain": [
       "<Figure size 432x288 with 4 Axes>"
      ]
     },
     "metadata": {
      "needs_background": "light"
     },
     "output_type": "display_data"
    }
   ],
   "source": [
    "pd.DataFrame(to_one_hot(y_train_classes)).hist();"
   ]
  },
  {
   "cell_type": "code",
   "execution_count": 28,
   "metadata": {},
   "outputs": [
    {
     "name": "stdout",
     "output_type": "stream",
     "text": [
      "ComplementNB:\n",
      "AUC: 0.573\n",
      "mse pred: 0.9378739070409572\n",
      "mse prob: 0.39530602670232257\n",
      "CategoricalNB:\n",
      "AUC: 0.500\n",
      "mse pred: 0.39530602853198343\n",
      "mse prob: 0.3938523388872352\n",
      "BayesianRidge:\n",
      "AUC: 0.500\n",
      "mse pred: 0.39518368709305485\n",
      "LinearRegression:\n",
      "AUC: 0.500\n",
      "mse pred: 0.3945542718626845\n"
     ]
    }
   ],
   "source": [
    "from sklearn.ensemble import StackingClassifier, StackingRegressor\n",
    "from sklearn.ensemble import RandomForestRegressor, RandomForestClassifier\n",
    "from sklearn.naive_bayes import ComplementNB, CategoricalNB\n",
    "from sklearn.isotonic import IsotonicRegression\n",
    "from sklearn.linear_model import BayesianRidge, LinearRegression, LogisticRegression\n",
    "from imblearn.pipeline import make_pipeline\n",
    "\n",
    "# see also the naivebayes-predictor library that implements a wider range of supported distribution than what comes with sklearn's implementation\n",
    "\n",
    "def create_classifier(final_estimator):\n",
    "    print(f'{final_estimator.__class__.__name__}:')\n",
    "    if final_estimator._estimator_type == 'regressor':\n",
    "        estimators = [\n",
    "            ('rf', RandomForestRegressor(\n",
    "                n_estimators=100,\n",
    "                n_jobs=-1\n",
    "            ))\n",
    "        ]        \n",
    "        return StackingRegressor(\n",
    "            estimators=estimators,\n",
    "            final_estimator=final_estimator,\n",
    "        ).fit(X_train, y_train_classes)\n",
    "    else:\n",
    "        estimators = [\n",
    "            ('rf', RandomForestClassifier(\n",
    "                n_estimators=100,\n",
    "                n_jobs=-1\n",
    "            ))\n",
    "        ]                \n",
    "        return StackingClassifier(\n",
    "            estimators=estimators,\n",
    "            final_estimator=final_estimator,\n",
    "            #stack_method='predict_proba'\n",
    "        ).fit(X_train, y_train_classes)\n",
    "\n",
    "measure_perf(create_classifier(ComplementNB()), y_test_classes)\n",
    "measure_perf(create_classifier(CategoricalNB()), y_test_classes)\n",
    "measure_perf(create_classifier(BayesianRidge()), y_test_classes)\n",
    "measure_perf(create_classifier(LinearRegression()), y_test_classes)"
   ]
  },
  {
   "cell_type": "code",
   "execution_count": 29,
   "metadata": {},
   "outputs": [
    {
     "name": "stdout",
     "output_type": "stream",
     "text": [
      "AUC: 0.513\n",
      "mse pred: 0.42291762540266914\n",
      "mse prob: 0.3962276227874193\n",
      "AUC: 0.517\n",
      "mse pred: 0.43718361711919007\n",
      "mse prob: 0.3956709350716044\n"
     ]
    }
   ],
   "source": [
    "from sklearn.calibration import CalibratedClassifierCV\n",
    "\n",
    "rf = RandomForestClassifier(n_estimators=500, n_jobs=-1).fit(X_train, y_train_classes)\n",
    "platt = CalibratedClassifierCV(rf, method='sigmoid').fit(X_train, y_train_classes)\n",
    "isotonic = CalibratedClassifierCV(rf, method='isotonic').fit(X_train, y_train_classes)\n",
    "measure_perf(platt, y_test_classes)\n",
    "measure_perf(isotonic, y_test_classes)"
   ]
  },
  {
   "cell_type": "code",
   "execution_count": 30,
   "metadata": {},
   "outputs": [
    {
     "name": "stdout",
     "output_type": "stream",
     "text": [
      "AUC: 0.518\n",
      "mse pred: 0.4445467096180396\n",
      "mse prob: 0.3941700782328578\n"
     ]
    }
   ],
   "source": [
    "measure_perf(rf, y_test_classes)"
   ]
  },
  {
   "cell_type": "code",
   "execution_count": 31,
   "metadata": {},
   "outputs": [
    {
     "name": "stdout",
     "output_type": "stream",
     "text": [
      "AUC: 0.500\n",
      "mse pred: 0.3951464754864403\n"
     ]
    }
   ],
   "source": [
    "from sklearn.ensemble import StackingRegressor\n",
    "from sklearn.ensemble import RandomForestRegressor\n",
    "from sklearn.linear_model import BayesianRidge\n",
    "# see also the naivebayes-predictor library that implements a wider range of supported distribution than what comes with sklearn's implementation\n",
    "estimators = [\n",
    "    ('rf', RandomForestRegressor(n_estimators=500, n_jobs=-1)),\n",
    "]\n",
    "clf = StackingRegressor(\n",
    "    estimators=estimators,\n",
    "    final_estimator=BayesianRidge()\n",
    ")\n",
    "clf.fit(X_train, y_train)\n",
    "measure_perf(clf, y_test_classes)"
   ]
  }
 ],
 "metadata": {
  "kernelspec": {
   "display_name": "Python 3",
   "language": "python",
   "name": "python3"
  },
  "language_info": {
   "codemirror_mode": {
    "name": "ipython",
    "version": 3
   },
   "file_extension": ".py",
   "mimetype": "text/x-python",
   "name": "python",
   "nbconvert_exporter": "python",
   "pygments_lexer": "ipython3",
   "version": "3.6.11"
  }
 },
 "nbformat": 4,
 "nbformat_minor": 2
}
